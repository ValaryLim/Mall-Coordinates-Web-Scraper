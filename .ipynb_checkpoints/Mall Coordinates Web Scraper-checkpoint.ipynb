{
 "cells": [
  {
   "cell_type": "markdown",
   "metadata": {},
   "source": [
    "<h1> Shopping Mall Web Scraper </h1>"
   ]
  },
  {
   "cell_type": "markdown",
   "metadata": {},
   "source": [
    "<h3> Scraping Malls from Wikipedia </h3>\n",
    "<p>I first needed to get a list of all the shopping malls in Singapore. To do so, I built a simple webscraper to scrape the list of shopping malls off a wikipedia page.</p>"
   ]
  },
  {
   "cell_type": "code",
   "execution_count": null,
   "metadata": {},
   "outputs": [],
   "source": [
    "#Import libraries\n",
    "from bs4 import BeautifulSoup\n",
    "import requests\n",
    "import re"
   ]
  },
  {
   "cell_type": "code",
   "execution_count": null,
   "metadata": {},
   "outputs": [],
   "source": [
    "url = \"https://en.wikipedia.org/wiki/List_of_shopping_malls_in_Singapore\"\n",
    "response = requests.get(url, timeout = 5)\n",
    "content = BeautifulSoup(response.content, \"html.parser\")"
   ]
  },
  {
   "cell_type": "code",
   "execution_count": null,
   "metadata": {},
   "outputs": [],
   "source": [
    "content"
   ]
  },
  {
   "cell_type": "code",
   "execution_count": null,
   "metadata": {},
   "outputs": [],
   "source": [
    "original_content = content.findAll(\"a\", href = re.compile(\"wiki\"))"
   ]
  },
  {
   "cell_type": "code",
   "execution_count": null,
   "metadata": {},
   "outputs": [],
   "source": [
    "new_content = content.findAll(\"a\", attrs = { \"class\" : \"new\" })"
   ]
  },
  {
   "cell_type": "code",
   "execution_count": null,
   "metadata": {},
   "outputs": [],
   "source": [
    "malls = []\n",
    "\n",
    "for node in new_content:\n",
    "    mallName = \"\".join(node.findAll(text = True))\n",
    "    if len(mallName) > 1:\n",
    "        malls.append(\"\".join(node.findAll(text = True)))\n",
    "\n",
    "for node in original_content:\n",
    "    mallName = \"\".join(node.findAll(text = True))\n",
    "    if len(mallName) > 1:\n",
    "        malls.append(\"\".join(node.findAll(text = True)))"
   ]
  },
  {
   "cell_type": "code",
   "execution_count": null,
   "metadata": {},
   "outputs": [],
   "source": [
    "malls"
   ]
  },
  {
   "cell_type": "markdown",
   "metadata": {},
   "source": [
    "<h3> Data Cleaning </h3>\n",
    "<p>The data retrieved from the webscraper needs to be cleaned so that only the <b>relevant or current</b> malls are left in the dataset before we use that list to retrieve the mall coordinates.</p>"
   ]
  },
  {
   "cell_type": "code",
   "execution_count": null,
   "metadata": {},
   "outputs": [],
   "source": [
    "# Remove non-mall data\n",
    "malls_sliced = malls[:286]"
   ]
  },
  {
   "cell_type": "code",
   "execution_count": null,
   "metadata": {},
   "outputs": [],
   "source": [
    "malls_sliced.sort()\n",
    "malls_sliced"
   ]
  },
  {
   "cell_type": "code",
   "execution_count": null,
   "metadata": {},
   "outputs": [],
   "source": [
    "# Make all names uppercase\n",
    "def uppercase(dataset):\n",
    "    result = []\n",
    "    for i in dataset:\n",
    "        result.append(i.upper())\n",
    "    return result"
   ]
  },
  {
   "cell_type": "code",
   "execution_count": null,
   "metadata": {},
   "outputs": [],
   "source": [
    "malls_sliced = uppercase(malls_sliced) "
   ]
  },
  {
   "cell_type": "code",
   "execution_count": null,
   "metadata": {},
   "outputs": [],
   "source": [
    "# Remove \"the\" in mall names (to better clear duplicates)\n",
    "def remove_the(dataset):\n",
    "    result = []\n",
    "    for i in dataset:\n",
    "        result.append(i.replace(\"the\", \"\"))\n",
    "    return result"
   ]
  },
  {
   "cell_type": "code",
   "execution_count": null,
   "metadata": {},
   "outputs": [],
   "source": [
    "malls_sliced = remove_the(malls_sliced)"
   ]
  },
  {
   "cell_type": "code",
   "execution_count": null,
   "metadata": {},
   "outputs": [],
   "source": [
    "# Remove extra spaces in mall names\n",
    "def remove_whitespace(dataset):\n",
    "    result = []\n",
    "    for i in dataset:\n",
    "        result.append(i.strip())\n",
    "    return result"
   ]
  },
  {
   "cell_type": "code",
   "execution_count": null,
   "metadata": {},
   "outputs": [],
   "source": [
    "# Remove whitespace within lines\n",
    "malls_sliced = remove_whitespace(malls_sliced)"
   ]
  },
  {
   "cell_type": "code",
   "execution_count": null,
   "metadata": {},
   "outputs": [],
   "source": [
    "# Remove duplicates\n",
    "def remove_duplicates(dataset): \n",
    "    result = []\n",
    "    for i in dataset: \n",
    "        if i not in result:\n",
    "            result.append(i)\n",
    "    return result"
   ]
  },
  {
   "cell_type": "code",
   "execution_count": null,
   "metadata": {},
   "outputs": [],
   "source": [
    "# Remove duplicates in malls\n",
    "malls_sliced = remove_duplicates(malls_sliced)"
   ]
  },
  {
   "cell_type": "code",
   "execution_count": null,
   "metadata": {},
   "outputs": [],
   "source": [
    "# View malls\n",
    "malls_sliced"
   ]
  },
  {
   "cell_type": "code",
   "execution_count": null,
   "metadata": {},
   "outputs": [],
   "source": [
    "# Removing all terms that are not malls\n",
    "malls_sliced.remove(\"REMOVED\")\n",
    "malls_sliced.remove(\"SOURCES\")\n",
    "malls_sliced.remove(\"IMPROVE THIS ARTICLE\")\n",
    "malls_sliced.remove(\"ADDING CITATIONS TO RELIABLE SOURCES\")\n",
    "malls_sliced.remove(\"DEMOLISHED\")\n",
    "malls_sliced.remove(\"LEARN HOW AND WHEN TO REMOVE THIS TEMPLATE MESSAGE\")\n",
    "malls_sliced.remove(\"SINGAPORE\")\n",
    "malls_sliced.remove(\"CITE\")\n",
    "\n",
    "# Remove demolished malls\n",
    "malls_sliced.remove(\"SPECIALISTS' SHOPPING CENTRE\")\n",
    "malls_sliced.remove(\"FITZPATRICK'S\")\n",
    "malls_sliced.remove(\"MULTIPLEXES\")\n",
    "malls_sliced.remove(\"THE VERGE\")\n",
    "\n",
    "# Remove unopened malls\n",
    "malls_sliced.remove(\"TEKKA PLACE\")\n",
    "\n",
    "# Remove identical malls recorded in different names\n",
    "malls_sliced.remove(\"WESTGATE MALL\")\n",
    "malls_sliced.remove(\"CAPITOL CENTRE\")\n",
    "malls_sliced.remove(\"DJITSUN MALL BEDOK\")\n",
    "malls_sliced.remove(\"HDB\")\n",
    "malls_sliced.remove(\"HOLLAND V SHOPPING MALL\")\n",
    "malls_sliced.remove(\"MUSTAFA CENTRE\")\n",
    "malls_sliced.remove(\"RAFFLES CITY\")\n",
    "malls_sliced.remove(\"SCOTTS SHOPPING CENTRE\")\n",
    "malls_sliced.remove(\"SUNTEC CITY MALL\")"
   ]
  },
  {
   "cell_type": "markdown",
   "metadata": {},
   "source": [
    "<h2> Retrieve Coordinates for Shopping Malls </h2>\n",
    "\n",
    "<h3> Method 1: Retrieving Postal Codes and Using the Selenium Webdriver to Search for SVY21 Coordinates</h3>\n",
    "\n",
    "At the time of creating this web scraper, the OneMap API was down and therefore unavailble. As an alternative, I found a website https://www.latlong.net/convert-address-to-lat-long.html that would allow me to search and retrieve the coordinates of each mall. However, I found that the search was more accurate when I used both the mall name and its postal code. Thus, I needed to first retrieve the postal codes of shopping malls.\n",
    "\n",
    "\n",
    "<h4> Retrieve Postal Codes for Shopping Malls </h4>\n",
    "\n",
    "The postal codes of malls were retrieved from the 'buildings.json' file on https://github.com/xkjyeah/singapore-postal-codes/blob/master/download_postal_codes.py"
   ]
  },
  {
   "cell_type": "code",
   "execution_count": null,
   "metadata": {},
   "outputs": [],
   "source": [
    "# Import libraries\n",
    "import json\n",
    "import csv\n",
    "from googlesearch import search"
   ]
  },
  {
   "cell_type": "code",
   "execution_count": null,
   "metadata": {},
   "outputs": [],
   "source": [
    "with open(\"buildings.json\", \"r\") as f:\n",
    "    datastore = json.load(f)"
   ]
  },
  {
   "cell_type": "code",
   "execution_count": null,
   "metadata": {},
   "outputs": [],
   "source": [
    "# View datastore\n",
    "datastore"
   ]
  },
  {
   "cell_type": "code",
   "execution_count": null,
   "metadata": {},
   "outputs": [],
   "source": [
    "# Retrieve mall coordinates from datastore\n",
    "mall_codes = {}\n",
    "MISSING = 1\n",
    "\n",
    "for mall in malls_sliced:\n",
    "    for i in range(len(datastore)):\n",
    "        if mall in datastore[i]['BUILDING'].upper():\n",
    "            mall_codes[mall] = datastore[i]['POSTAL']\n",
    "    if mall not in mall_codes.keys():\n",
    "        mall_codes[mall] = MISSING"
   ]
  },
  {
   "cell_type": "code",
   "execution_count": null,
   "metadata": {},
   "outputs": [],
   "source": [
    "mall_codes"
   ]
  },
  {
   "cell_type": "code",
   "execution_count": null,
   "metadata": {},
   "outputs": [],
   "source": [
    "# Retrieve the list of malls with coordinates not in database\n",
    "missing_mall_codes = []\n",
    "for mall in mall_codes:\n",
    "    if mall_codes[mall] == MISSING:\n",
    "        missing_mall_codes.append(mall)"
   ]
  },
  {
   "cell_type": "code",
   "execution_count": null,
   "metadata": {},
   "outputs": [],
   "source": [
    "missing_mall_codes"
   ]
  },
  {
   "cell_type": "code",
   "execution_count": null,
   "metadata": {},
   "outputs": [],
   "source": [
    "# Find postal codes for misisng malls\n",
    "for mall in missing_mall_codes:\n",
    "    query = mall.lower() + \" postal code\"\n",
    "    for j in search(query, tld=\"co.in\", num=10, stop=1, pause=2): \n",
    "        print(mall + \": \" + j)"
   ]
  },
  {
   "cell_type": "code",
   "execution_count": null,
   "metadata": {},
   "outputs": [],
   "source": [
    "# Add coordinates based on searches\n",
    "mall_codes['CITY GATE MALL'] = '199597'\n",
    "mall_codes['CITY VIBE'] = '129581'\n",
    "mall_codes['CLARKE QUAY CENTRAL'] = '059815'\n",
    "mall_codes['FERNVALE POINT'] = '791436'\n",
    "mall_codes['GV YISHUN'] = '768794'\n",
    "mall_codes['HOLLAND VILLAGE SHOPPING MALL'] = '278967'\n",
    "mall_codes['JURONG ENTERTAINMENT CENTRE'] = '609731'\n",
    "mall_codes['MARINA BAY FINANCIAL CENTRE TOWER 3'] = '018982'\n",
    "mall_codes['MUSTAFA SHOPPING CENTRE'] = '207704'\n",
    "mall_codes['ORCHARD MIDPOINT'] = '238852'\n",
    "mall_codes['SHAW HOUSE AND CENTRE'] = '238868'\n",
    "mall_codes['TEKKA CENTRE'] = '210665'\n",
    "mall_codes[\"UNITED SQUARE SHOPPING MALL\"] = '307591'\n",
    "mall_codes[\"YUE HWA BUILDING\"] = '059805'\n",
    "mall_codes[\"MYVILLAGE @ SERANGOON\"] = '556679'"
   ]
  },
  {
   "cell_type": "markdown",
   "metadata": {},
   "source": [
    "<h4> Getting Coordinates from Postal Codes using Selenium Webdriver </h4>\n",
    "\n",
    "I then used the selenium webdriver to create an automatic fetcher for the coordinates of malls based on the mall name and postal code retrieved. This final list was exported to csv. "
   ]
  },
  {
   "cell_type": "code",
   "execution_count": null,
   "metadata": {},
   "outputs": [],
   "source": [
    "# Import webdriver\n",
    "from selenium import webdriver\n",
    "from selenium.webdriver.common.desired_capabilities import DesiredCapabilities\n",
    "from selenium.webdriver.common.alert import Alert\n",
    "\n",
    "# Import pandas\n",
    "import pandas as pd\n",
    "\n",
    "# Import time\n",
    "import time"
   ]
  },
  {
   "cell_type": "code",
   "execution_count": null,
   "metadata": {
    "scrolled": true
   },
   "outputs": [],
   "source": [
    "# Create mall list with latitude and longitude\n",
    "malls_lat_long = []\n",
    "\n",
    "for mall in mall_codes.keys():\n",
    "    search_term = mall + \" Singapore \" + mall_codes[mall]\n",
    "    \n",
    "    # Create browser\n",
    "    cap = DesiredCapabilities().FIREFOX\n",
    "    cap[\"marionette\"] = False\n",
    "    browser = webdriver.Firefox(capabilities=cap, executable_path=\"C:\\\\path\\\\to\\\\geckodriver.exe\")\n",
    "    browser.get(\"https://www.latlong.net/convert-address-to-lat-long.html\")\n",
    "    \n",
    "    # input search text into search bar\n",
    "    search_bar = browser.find_element_by_xpath(\"//input[@placeholder='Type address here to get lat long']\")\n",
    "    search_bar.send_keys(search_term)\n",
    "    search_bar.submit()\n",
    "\n",
    "    time.sleep(8)\n",
    "\n",
    "    # get latitude and longitude\n",
    "    lat_long = browser.find_element_by_id('latlngspan')\n",
    "    lat_long_strip = lat_long.text.strip('() ').split(',')\n",
    "    lat_long_clean = [float(n) for n in lat_long_strip]\n",
    "\n",
    "    # create dictionary of mall, latitude and longitude\n",
    "    mall_details = {}\n",
    "    mall_details['name'] = mall\n",
    "    mall_details['latitude'] = lat_long_clean[0]\n",
    "    mall_details['longitude'] = lat_long_clean[1]\n",
    "        \n",
    "    # add dictionary to malls_lat_long list\n",
    "    malls_lat_long.append(mall_details)\n",
    "    \n",
    "    browser.close()\n",
    "    time.sleep(10)"
   ]
  },
  {
   "cell_type": "code",
   "execution_count": null,
   "metadata": {},
   "outputs": [],
   "source": [
    "# View malls_lat_long\n",
    "malls_lat_long"
   ]
  },
  {
   "cell_type": "code",
   "execution_count": null,
   "metadata": {
    "scrolled": true
   },
   "outputs": [],
   "source": [
    "# Convert to malls_lat_long to pandas dataframe\n",
    "df_malls = pd.DataFrame(malls_lat_long)"
   ]
  },
  {
   "cell_type": "code",
   "execution_count": null,
   "metadata": {},
   "outputs": [],
   "source": [
    "# Export to csv\n",
    "df_malls.to_csv('mall_coordinates.csv')"
   ]
  },
  {
   "cell_type": "markdown",
   "metadata": {},
   "source": [
    "<h3> Method 2: Using the OneMap API to Retrieve Mall Coordinates </h3>\n",
    "\n",
    "I found that the SVY21 coordinates previously retrieved were slightly inaccurate. Thus, I decided to use the OneMap API to retrieve the mall coordinates after the API had been fixed. "
   ]
  },
  {
   "cell_type": "code",
   "execution_count": null,
   "metadata": {},
   "outputs": [],
   "source": [
    "# Import packages required for one map\n",
    "import requests\n",
    "import pandas as pd"
   ]
  },
  {
   "cell_type": "code",
   "execution_count": null,
   "metadata": {},
   "outputs": [],
   "source": [
    "# Function to get latitude and longitude from onemap api\n",
    "def getSVY21(location):\n",
    "    searchQuery = \"https://developers.onemap.sg/commonapi/search?searchVal=\" + location + \"&returnGeom=Y&getAddrDetails=Y\"\n",
    "    response = requests.get(searchQuery)\n",
    "    \n",
    "    try:\n",
    "        result = response.json()['results'][0]\n",
    "        latitude = result['LATITUDE']\n",
    "        longitude = result['LONGITUDE']\n",
    "        return [latitude, longitude]\n",
    "    except: \n",
    "        return 'INVALID LOCATION'"
   ]
  },
  {
   "cell_type": "code",
   "execution_count": null,
   "metadata": {},
   "outputs": [],
   "source": [
    "# Function to search latitude and longitude for all names in a list\n",
    "def searchOneMap(locationList):\n",
    "    lat_long_locations = []\n",
    "    invalid_locations = []\n",
    "    for location in locationList:\n",
    "        lat_long = getSVY21(location)\n",
    "        if lat_long != 'INVALID LOCATION': \n",
    "            location_details = {}\n",
    "            location_details['name'] = location\n",
    "            location_details['latitude'] = lat_long[0]\n",
    "            location_details['longitude'] = lat_long[1]\n",
    "            lat_long_locations.append(location_details)\n",
    "        else:\n",
    "            invalid_locations.append(location)\n",
    "    return [lat_long_locations, invalid_locations]"
   ]
  },
  {
   "cell_type": "code",
   "execution_count": null,
   "metadata": {},
   "outputs": [],
   "source": [
    "# Retrieve lat long of malls\n",
    "result = searchOneMap(malls_sliced)\n",
    "mall_lat_long = result[0]\n",
    "missing_malls = result[1]"
   ]
  },
  {
   "cell_type": "code",
   "execution_count": null,
   "metadata": {},
   "outputs": [],
   "source": [
    "# View missing malls\n",
    "missing_malls"
   ]
  },
  {
   "cell_type": "code",
   "execution_count": null,
   "metadata": {},
   "outputs": [],
   "source": [
    "# Manually search for missing malls\n",
    "def addLocationToList(locationList, mall, lat, long):\n",
    "    location_details = {}\n",
    "    location_details['name'] = mall\n",
    "    location_details['latitude'] = lat\n",
    "    location_details['longitude'] = long\n",
    "    locationList.append(location_details)"
   ]
  },
  {
   "cell_type": "code",
   "execution_count": null,
   "metadata": {},
   "outputs": [],
   "source": [
    "# Add missing locations\n",
    "addLocationToList(mall_lat_long, 'CITY GATE', '1.3023159', '103.8623317')\n",
    "addLocationToList(mall_lat_long, 'THE CENTRAL', '1.2888386', '103.8465580')\n",
    "addLocationToList(mall_lat_long, 'GOLDEN VILLAGE - YISHUN TEN', '1.4299181', '103.8364202')\n",
    "addLocationToList(mall_lat_long, 'RAFFLES HOLLAND V', '1.3105635', '103.7961072')\n",
    "addLocationToList(mall_lat_long, 'JEM', '1.3330614', '103.7435037')\n",
    "addLocationToList(mall_lat_long, 'MUSTAFA CENTRE', '1.3101122', '103.8552908')\n",
    "addLocationToList(mall_lat_long, 'SHAW HOUSE', '1.3058098', '103.8315073')\n",
    "addLocationToList(mall_lat_long, 'UNITED SQUARE', '1.3171945', '103.8436114')\n",
    "addLocationToList(mall_lat_long, 'MYVILLAGE @ SERANGOON', '1.3651149', '103.8651595')"
   ]
  },
  {
   "cell_type": "code",
   "execution_count": null,
   "metadata": {},
   "outputs": [],
   "source": [
    "# View hashmap\n",
    "mall_lat_long"
   ]
  },
  {
   "cell_type": "code",
   "execution_count": null,
   "metadata": {},
   "outputs": [],
   "source": [
    "# Convert to malls_lat_long to pandas dataframe\n",
    "df_malls = pd.DataFrame(mall_lat_long)\n",
    "\n",
    "# Export to csv\n",
    "df_malls.to_csv('mall_coordinates_updated.csv')"
   ]
  }
 ],
 "metadata": {
  "kernelspec": {
   "display_name": "Python 3",
   "language": "python",
   "name": "python3"
  },
  "language_info": {
   "codemirror_mode": {
    "name": "ipython",
    "version": 3
   },
   "file_extension": ".py",
   "mimetype": "text/x-python",
   "name": "python",
   "nbconvert_exporter": "python",
   "pygments_lexer": "ipython3",
   "version": "3.7.3"
  }
 },
 "nbformat": 4,
 "nbformat_minor": 2
}
