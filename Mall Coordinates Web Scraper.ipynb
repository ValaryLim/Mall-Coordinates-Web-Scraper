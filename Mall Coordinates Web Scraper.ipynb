{
 "cells": [
  {
   "cell_type": "markdown",
   "metadata": {},
   "source": [
    "<h1> Shopping Mall Web Scraper </h1>"
   ]
  },
  {
   "cell_type": "markdown",
   "metadata": {},
   "source": [
    "<h2> Scraping Malls from Wikipedia </h2>"
   ]
  },
  {
   "cell_type": "code",
   "execution_count": null,
   "metadata": {},
   "outputs": [],
   "source": [
    "#Import libraries\n",
    "from bs4 import BeautifulSoup\n",
    "import requests\n",
    "import re"
   ]
  },
  {
   "cell_type": "code",
   "execution_count": null,
   "metadata": {},
   "outputs": [],
   "source": [
    "url = \"https://en.wikipedia.org/wiki/List_of_shopping_malls_in_Singapore\"\n",
    "response = requests.get(url, timeout = 5)\n",
    "content = BeautifulSoup(response.content, \"html.parser\")"
   ]
  },
  {
   "cell_type": "code",
   "execution_count": null,
   "metadata": {},
   "outputs": [],
   "source": [
    "content"
   ]
  },
  {
   "cell_type": "code",
   "execution_count": null,
   "metadata": {},
   "outputs": [],
   "source": [
    "original_content = content.findAll(\"a\", href = re.compile(\"wiki\"))"
   ]
  },
  {
   "cell_type": "code",
   "execution_count": null,
   "metadata": {},
   "outputs": [],
   "source": [
    "new_content = content.findAll(\"a\", attrs = { \"class\" : \"new\" })"
   ]
  },
  {
   "cell_type": "code",
   "execution_count": null,
   "metadata": {},
   "outputs": [],
   "source": [
    "malls = []\n",
    "\n",
    "for node in new_content:\n",
    "    mallName = \"\".join(node.findAll(text = True))\n",
    "    if len(mallName) > 1:\n",
    "        malls.append(\"\".join(node.findAll(text = True)))\n",
    "\n",
    "for node in original_content:\n",
    "    mallName = \"\".join(node.findAll(text = True))\n",
    "    if len(mallName) > 1:\n",
    "        malls.append(\"\".join(node.findAll(text = True)))"
   ]
  },
  {
   "cell_type": "code",
   "execution_count": null,
   "metadata": {},
   "outputs": [],
   "source": [
    "malls"
   ]
  },
  {
   "cell_type": "markdown",
   "metadata": {},
   "source": [
    "<h2> Data Cleaning </h2>"
   ]
  },
  {
   "cell_type": "code",
   "execution_count": null,
   "metadata": {},
   "outputs": [],
   "source": [
    "# Remove non-mall data\n",
    "malls_sliced = malls[:286]"
   ]
  },
  {
   "cell_type": "code",
   "execution_count": null,
   "metadata": {},
   "outputs": [],
   "source": [
    "malls_sliced.sort()\n",
    "malls_sliced"
   ]
  },
  {
   "cell_type": "code",
   "execution_count": null,
   "metadata": {},
   "outputs": [],
   "source": [
    "# Make all names uppercase\n",
    "def uppercase(dataset):\n",
    "    result = []\n",
    "    for i in dataset:\n",
    "        result.append(i.upper())\n",
    "    return result"
   ]
  },
  {
   "cell_type": "code",
   "execution_count": null,
   "metadata": {},
   "outputs": [],
   "source": [
    "malls_sliced = uppercase(malls_sliced) "
   ]
  },
  {
   "cell_type": "code",
   "execution_count": null,
   "metadata": {},
   "outputs": [],
   "source": [
    "# Remove \"the\" in mall names (to better clear duplicates)\n",
    "def remove_the(dataset):\n",
    "    result = []\n",
    "    for i in dataset:\n",
    "        result.append(i.replace(\"the\", \"\"))\n",
    "    return result"
   ]
  },
  {
   "cell_type": "code",
   "execution_count": null,
   "metadata": {},
   "outputs": [],
   "source": [
    "malls_sliced = remove_the(malls_sliced)"
   ]
  },
  {
   "cell_type": "code",
   "execution_count": null,
   "metadata": {},
   "outputs": [],
   "source": [
    "# Remove extra spaces in mall names\n",
    "def remove_whitespace(dataset):\n",
    "    result = []\n",
    "    for i in dataset:\n",
    "        result.append(i.strip())\n",
    "    return result"
   ]
  },
  {
   "cell_type": "code",
   "execution_count": null,
   "metadata": {},
   "outputs": [],
   "source": [
    "malls_sliced = remove_whitespace(malls_sliced)"
   ]
  },
  {
   "cell_type": "code",
   "execution_count": null,
   "metadata": {},
   "outputs": [],
   "source": [
    "# Remove duplicates\n",
    "def remove_duplicates(dataset): \n",
    "    result = []\n",
    "    for i in dataset: \n",
    "        if i not in result:\n",
    "            result.append(i)\n",
    "    return result"
   ]
  },
  {
   "cell_type": "code",
   "execution_count": null,
   "metadata": {},
   "outputs": [],
   "source": [
    "malls_sliced = remove_duplicates(malls_sliced)"
   ]
  },
  {
   "cell_type": "code",
   "execution_count": null,
   "metadata": {},
   "outputs": [],
   "source": [
    "malls_sliced"
   ]
  },
  {
   "cell_type": "code",
   "execution_count": null,
   "metadata": {},
   "outputs": [],
   "source": [
    "malls_sliced.remove(\"REMOVED\")\n",
    "malls_sliced.remove(\"SOURCES\")\n",
    "malls_sliced.remove(\"IMPROVE THIS ARTICLE\")\n",
    "malls_sliced.remove(\"ADDING CITATIONS TO RELIABLE SOURCES\")\n",
    "malls_sliced.remove(\"DEMOLISHED\")\n",
    "malls_sliced.remove(\"LEARN HOW AND WHEN TO REMOVE THIS TEMPLATE MESSAGE\")\n",
    "malls_sliced.remove(\"SINGAPORE\")\n",
    "malls_sliced.remove(\"CITE\")\n",
    "\n",
    "# Remove demolished malls\n",
    "malls_sliced.remove(\"SPECIALISTS' SHOPPING CENTRE\")\n",
    "malls_sliced.remove(\"FITZPATRICK'S\")\n",
    "malls_sliced.remove(\"MULTIPLEXES\")\n",
    "malls_sliced.remove(\"THE VERGE\")\n",
    "\n",
    "# Remove unopened malls\n",
    "malls_sliced.remove(\"TEKKA PLACE\")\n",
    "\n",
    "# Remove identical malls recorded in different names\n",
    "malls_sliced.remove(\"WESTGATE MALL\")\n",
    "malls_sliced.remove(\"CAPITOL CENTRE\")\n",
    "malls_sliced.remove(\"DJITSUN MALL BEDOK\")\n",
    "malls_sliced.remove(\"HDB\")\n",
    "malls_sliced.remove(\"HOLLAND V SHOPPING MALL\")\n",
    "malls_sliced.remove(\"MUSTAFA CENTRE\")\n",
    "malls_sliced.remove(\"RAFFLES CITY\")\n",
    "malls_sliced.remove(\"SCOTTS SHOPPING CENTRE\")\n",
    "malls_sliced.remove(\"SUNTEC CITY MALL\")"
   ]
  },
  {
   "cell_type": "markdown",
   "metadata": {},
   "source": [
    "<h2> Retrieve Coordinates for Shopping Malls </h2>\n",
    "<h3> Retrieve Postal Codes for Shopping Malls </h3>\n",
    "Postal codes of malls are retrieved from the 'buildings.json' file on https://github.com/xkjyeah/singapore-postal-codes/blob/master/download_postal_codes.py"
   ]
  },
  {
   "cell_type": "code",
   "execution_count": null,
   "metadata": {},
   "outputs": [],
   "source": [
    "# Import libraries\n",
    "import json\n",
    "import csv\n",
    "from googlesearch import search"
   ]
  },
  {
   "cell_type": "code",
   "execution_count": null,
   "metadata": {},
   "outputs": [],
   "source": [
    "with open(\"buildings.json\", \"r\") as f:\n",
    "    datastore = json.load(f)"
   ]
  },
  {
   "cell_type": "code",
   "execution_count": null,
   "metadata": {},
   "outputs": [],
   "source": [
    "# View datastore\n",
    "datastore"
   ]
  },
  {
   "cell_type": "code",
   "execution_count": null,
   "metadata": {},
   "outputs": [],
   "source": [
    "# Retrieve mall coordinates from datastore\n",
    "mall_codes = {}\n",
    "MISSING = 1\n",
    "\n",
    "for mall in malls_sliced:\n",
    "    for i in range(len(datastore)):\n",
    "        if mall in datastore[i]['BUILDING'].upper():\n",
    "            mall_codes[mall] = datastore[i]['POSTAL']\n",
    "    if mall not in mall_codes.keys():\n",
    "        mall_codes[mall] = MISSING"
   ]
  },
  {
   "cell_type": "code",
   "execution_count": null,
   "metadata": {},
   "outputs": [],
   "source": [
    "mall_codes"
   ]
  },
  {
   "cell_type": "code",
   "execution_count": null,
   "metadata": {},
   "outputs": [],
   "source": [
    "# Retrieve the list of malls with coordinates not in database\n",
    "missing_mall_codes = []\n",
    "for mall in mall_codes:\n",
    "    if mall_codes[mall] == MISSING:\n",
    "        missing_mall_codes.append(mall)"
   ]
  },
  {
   "cell_type": "code",
   "execution_count": null,
   "metadata": {},
   "outputs": [],
   "source": [
    "missing_mall_codes"
   ]
  },
  {
   "cell_type": "code",
   "execution_count": null,
   "metadata": {},
   "outputs": [],
   "source": [
    "# Find postal codes for misisng malls\n",
    "for mall in missing_mall_codes:\n",
    "    query = mall.lower() + \" postal code\"\n",
    "    for j in search(query, tld=\"co.in\", num=10, stop=1, pause=2): \n",
    "        print(mall + \": \" + j)"
   ]
  },
  {
   "cell_type": "code",
   "execution_count": null,
   "metadata": {},
   "outputs": [],
   "source": [
    "# Add coordinates based on searches\n",
    "mall_codes['CITY GATE MALL'] = '199597'\n",
    "mall_codes['CITY VIBE'] = '129581'\n",
    "mall_codes['CLARKE QUAY CENTRAL'] = '059815'\n",
    "mall_codes['FERNVALE POINT'] = '791436'\n",
    "mall_codes['GV YISHUN'] = '768794'\n",
    "mall_codes['HOLLAND VILLAGE SHOPPING MALL'] = '278967'\n",
    "mall_codes['JURONG ENTERTAINMENT CENTRE'] = '609731'\n",
    "mall_codes['MARINA BAY FINANCIAL CENTRE TOWER 3'] = '018982'\n",
    "mall_codes['MUSTAFA SHOPPING CENTRE'] = '207704'\n",
    "mall_codes['ORCHARD MIDPOINT'] = '238852'\n",
    "mall_codes['SHAW HOUSE AND CENTRE'] = '238868'\n",
    "mall_codes['TEKKA CENTRE'] = '210665'\n",
    "mall_codes[\"UNITED SQUARE SHOPPING MALL\"] = '307591'\n",
    "mall_codes[\"YUE HWA BUILDING\"] = '059805'\n",
    "mall_codes[\"MYVILLAGE @ SERANGOON\"] = '556679'"
   ]
  },
  {
   "cell_type": "markdown",
   "metadata": {},
   "source": [
    "<h3> Get Coordinates from Postal Codes </h3>\n",
    "Using selenium webdriver to create an automatic fetcher for coordinates of malls in Singapore. Export the list of dictionaries to csv."
   ]
  },
  {
   "cell_type": "code",
   "execution_count": null,
   "metadata": {},
   "outputs": [],
   "source": [
    "# Import webdriver\n",
    "from selenium import webdriver\n",
    "from selenium.webdriver.common.desired_capabilities import DesiredCapabilities\n",
    "from selenium.webdriver.common.alert import Alert\n",
    "\n",
    "# Import pandas\n",
    "import pandas as pd\n",
    "\n",
    "# Import time\n",
    "import time"
   ]
  },
  {
   "cell_type": "code",
   "execution_count": null,
   "metadata": {
    "scrolled": true
   },
   "outputs": [],
   "source": [
    "# Create mall list with latitude and longitude\n",
    "malls_lat_long = []\n",
    "\n",
    "for mall in mall_codes.keys():\n",
    "    search_term = mall + \" Singapore \" + mall_codes[mall]\n",
    "    \n",
    "    # Create browser\n",
    "    cap = DesiredCapabilities().FIREFOX\n",
    "    cap[\"marionette\"] = False\n",
    "    browser = webdriver.Firefox(capabilities=cap, executable_path=\"C:\\\\path\\\\to\\\\geckodriver.exe\")\n",
    "    browser.get(\"https://www.latlong.net/convert-address-to-lat-long.html\")\n",
    "    \n",
    "    # input search text into search bar\n",
    "    search_bar = browser.find_element_by_xpath(\"//input[@placeholder='Type address here to get lat long']\")\n",
    "    search_bar.send_keys(search_term)\n",
    "    search_bar.submit()\n",
    "\n",
    "    time.sleep(8)\n",
    "\n",
    "    # get latitude and longitude\n",
    "    lat_long = browser.find_element_by_id('latlngspan')\n",
    "    lat_long_strip = lat_long.text.strip('() ').split(',')\n",
    "    lat_long_clean = [float(n) for n in lat_long_strip]\n",
    "\n",
    "    # create dictionary of mall, latitude and longitude\n",
    "    mall_details = {}\n",
    "    mall_details['name'] = mall\n",
    "    mall_details['latitude'] = lat_long_clean[0]\n",
    "    mall_details['longitude'] = lat_long_clean[1]\n",
    "        \n",
    "    # add dictionary to malls_lat_long list\n",
    "    malls_lat_long.append(mall_details)\n",
    "    \n",
    "    browser.close()\n",
    "    time.sleep(10)"
   ]
  },
  {
   "cell_type": "code",
   "execution_count": null,
   "metadata": {},
   "outputs": [],
   "source": [
    "# View malls_lat_long\n",
    "malls_lat_long"
   ]
  },
  {
   "cell_type": "code",
   "execution_count": null,
   "metadata": {
    "scrolled": true
   },
   "outputs": [],
   "source": [
    "# Convert to malls_lat_long to pandas dataframe\n",
    "df_malls = pd.DataFrame(malls_lat_long)"
   ]
  },
  {
   "cell_type": "code",
   "execution_count": null,
   "metadata": {},
   "outputs": [],
   "source": [
    "# Export to csv\n",
    "df_malls.to_csv('mall_coordinates.csv')"
   ]
  }
 ],
 "metadata": {
  "kernelspec": {
   "display_name": "Python 3",
   "language": "python",
   "name": "python3"
  },
  "language_info": {
   "codemirror_mode": {
    "name": "ipython",
    "version": 3
   },
   "file_extension": ".py",
   "mimetype": "text/x-python",
   "name": "python",
   "nbconvert_exporter": "python",
   "pygments_lexer": "ipython3",
   "version": "3.7.1"
  }
 },
 "nbformat": 4,
 "nbformat_minor": 2
}
